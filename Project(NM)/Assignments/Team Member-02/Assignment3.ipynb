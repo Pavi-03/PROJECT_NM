{
  "nbformat": 4,
  "nbformat_minor": 0,
  "metadata": {
    "colab": {
      "provenance": []
    },
    "kernelspec": {
      "name": "python3",
      "display_name": "Python 3"
    },
    "language_info": {
      "name": "python"
    }
  },
  "cells": [
    {
      "cell_type": "code",
      "execution_count": 1,
      "metadata": {
        "id": "9-r9vbz3r41H"
      },
      "outputs": [],
      "source": [
        "from tensorflow.keras.layers import Dense, Flatten, Input\n",
        "from tensorflow.keras.models import Model\n",
        "from tensorflow.keras.preprocessing import image\n",
        "from tensorflow.keras.preprocessing.image import ImageDataGenerator, load_img\n",
        "from tensorflow.keras.applications.vgg16 import VGG16, preprocess_input\n",
        "from glob import glob\n",
        "import numpy as np\n",
        "import matplotlib.pyplot as plt"
      ]
    },
    {
      "cell_type": "code",
      "source": [
        "pip install split-folders"
      ],
      "metadata": {
        "colab": {
          "base_uri": "https://localhost:8080/"
        },
        "id": "O1BfjIrOsAUh",
        "outputId": "0b93df23-105d-44b9-e572-71e9bf6480ae"
      },
      "execution_count": 2,
      "outputs": [
        {
          "output_type": "stream",
          "name": "stdout",
          "text": [
            "Looking in indexes: https://pypi.org/simple, https://us-python.pkg.dev/colab-wheels/public/simple/\n",
            "Collecting split-folders\n",
            "  Downloading split_folders-0.5.1-py3-none-any.whl (8.4 kB)\n",
            "Installing collected packages: split-folders\n",
            "Successfully installed split-folders-0.5.1\n"
          ]
        }
      ]
    },
    {
      "cell_type": "code",
      "source": [
        "import splitfolders"
      ],
      "metadata": {
        "id": "Z-ZRBH6FsDGY"
      },
      "execution_count": 3,
      "outputs": []
    },
    {
      "cell_type": "code",
      "source": [
        "!pip install -q kaggle\n",
        "!rm -rf ~/.kaggle\n",
        "!mkdir ~/.kaggle\n",
        "!cp kaggle.json ~/.kaggle\n",
        "! chmod 600 ~/.kaggle/kaggle.json"
      ],
      "metadata": {
        "id": "uMFkaaCQsGkA"
      },
      "execution_count": 5,
      "outputs": []
    },
    {
      "cell_type": "code",
      "source": [
        "!pip install -q kaggle\n",
        "!rm -rf ~/.kaggle\n",
        "!mkdir ~/.kaggle\n",
        "!cp kaggle.json ~/.kaggle\n",
        "! chmod 600 ~/.kaggle/kaggle.json"
      ],
      "metadata": {
        "id": "z6SR1_Kqrxgb"
      },
      "execution_count": 6,
      "outputs": []
    },
    {
      "cell_type": "code",
      "source": [
        "!kaggle datasets download -d iamsouravbanerjee/animal-image-dataset-90-different-animals"
      ],
      "metadata": {
        "colab": {
          "base_uri": "https://localhost:8080/"
        },
        "id": "WS_qAPnosAXm",
        "outputId": "81ec3a76-8be1-427c-d3e7-807126c34529"
      },
      "execution_count": 7,
      "outputs": [
        {
          "output_type": "stream",
          "name": "stdout",
          "text": [
            "Downloading animal-image-dataset-90-different-animals.zip to /content\n",
            " 97% 637M/656M [00:04<00:00, 158MB/s]\n",
            "100% 656M/656M [00:04<00:00, 145MB/s]\n"
          ]
        }
      ]
    },
    {
      "cell_type": "code",
      "source": [
        "! unzip /content/animal-image-dataset-90-different-animals.zip"
      ],
      "metadata": {
        "colab": {
          "base_uri": "https://localhost:8080/"
        },
        "id": "frw86F-tsL_-",
        "outputId": "a0bd7ecd-d43b-4488-b3de-b12de19511f3"
      },
      "execution_count": null,
      "outputs": [
        {
          "output_type": "stream",
          "name": "stdout",
          "text": [
            "Archive:  /content/animal-image-dataset-90-different-animals.zip\n",
            "replace animals/animals/antelope/02f4b3be2d.jpg? [y]es, [n]o, [A]ll, [N]one, [r]ename: "
          ]
        }
      ]
    },
    {
      "cell_type": "code",
      "source": [
        "from google.colab import drive\n",
        "drive.mount('/content/drive')"
      ],
      "metadata": {
        "id": "y9baolhK9Ew9",
        "colab": {
          "base_uri": "https://localhost:8080/"
        },
        "outputId": "cb6cc282-18e0-4281-975d-fa97146b8bd1"
      },
      "execution_count": 10,
      "outputs": [
        {
          "output_type": "stream",
          "name": "stdout",
          "text": [
            "Mounted at /content/drive\n"
          ]
        }
      ]
    },
    {
      "cell_type": "code",
      "source": [
        "x = '/content/animals/animals'"
      ],
      "metadata": {
        "id": "DfqcEATgsZ4r"
      },
      "execution_count": 11,
      "outputs": []
    },
    {
      "cell_type": "code",
      "source": [
        "splitfolders.ratio(x,output='animals2',seed=42,ratio=(.8,.2),group_prefix=None)"
      ],
      "metadata": {
        "colab": {
          "base_uri": "https://localhost:8080/"
        },
        "id": "k-hgy-9Lssol",
        "outputId": "0a8e2219-0576-499c-8337-b9a577c4c42c"
      },
      "execution_count": 12,
      "outputs": [
        {
          "output_type": "stream",
          "name": "stderr",
          "text": [
            "Copying files: 5400 files [00:02, 2288.60 files/s]\n"
          ]
        }
      ]
    },
    {
      "cell_type": "code",
      "source": [
        "import pandas as pd\n",
        "import cv2\n",
        "from sklearn.preprocessing import LabelEncoder\n",
        "from keras.models import Sequential\n",
        "from keras.layers import Conv2D, MaxPooling2D, Flatten, Dense\n",
        "from keras.preprocessing.image import ImageDataGenerator"
      ],
      "metadata": {
        "id": "vzP9AmCdtm4s"
      },
      "execution_count": 13,
      "outputs": []
    },
    {
      "cell_type": "code",
      "source": [
        "train_datagen = ImageDataGenerator(rescale=1./255,zoom_range=0.2,horizontal_flip=True)\n",
        "test_datagen = ImageDataGenerator(rescale=1./255)"
      ],
      "metadata": {
        "id": "Ik2llaxlurCX"
      },
      "execution_count": 14,
      "outputs": []
    },
    {
      "cell_type": "code",
      "source": [
        "train_generator = train_datagen.flow_from_directory('/content/animals2/train',target_size=(64, 64),class_mode='categorical',batch_size=100)\n",
        "test_generator = test_datagen.flow_from_directory('/content/animals2/val',target_size=(64, 64),class_mode='categorical',batch_size=100)\n"
      ],
      "metadata": {
        "colab": {
          "base_uri": "https://localhost:8080/"
        },
        "id": "IP36jbjJu6ty",
        "outputId": "0dd07842-eb69-44f9-d963-1f29bd4c1927"
      },
      "execution_count": 15,
      "outputs": [
        {
          "output_type": "stream",
          "name": "stdout",
          "text": [
            "Found 4320 images belonging to 90 classes.\n",
            "Found 1080 images belonging to 90 classes.\n"
          ]
        }
      ]
    },
    {
      "cell_type": "code",
      "source": [
        "model = Sequential()\n",
        "model.add(Conv2D(32, (3, 3), activation='relu', input_shape=(64, 64, 3)))\n",
        "model.add(MaxPooling2D(pool_size=(2, 2)))\n",
        "model.add(Flatten())\n",
        "model.add(Dense(128, activation='relu'))\n",
        "model.add(Dense(64, activation='relu'))\n",
        "model.add(Dense(train_generator.num_classes, activation='softmax'))"
      ],
      "metadata": {
        "id": "STYuylVMvl5g"
      },
      "execution_count": 16,
      "outputs": []
    },
    {
      "cell_type": "code",
      "source": [
        "model.compile(optimizer='adam', loss='categorical_crossentropy', metrics=['accuracy'])"
      ],
      "metadata": {
        "id": "-o53vEGSvoZ3"
      },
      "execution_count": 17,
      "outputs": []
    },
    {
      "cell_type": "code",
      "source": [
        "model.fit(train_generator, epochs=25)\n"
      ],
      "metadata": {
        "colab": {
          "base_uri": "https://localhost:8080/"
        },
        "id": "bs9akLWcvwlB",
        "outputId": "ee4e71ba-2eb4-4316-b4b1-1038f61be96f"
      },
      "execution_count": 18,
      "outputs": [
        {
          "output_type": "stream",
          "name": "stdout",
          "text": [
            "Epoch 1/25\n",
            "44/44 [==============================] - 92s 2s/step - loss: 4.5103 - accuracy: 0.0194\n",
            "Epoch 2/25\n",
            "44/44 [==============================] - 88s 2s/step - loss: 4.3826 - accuracy: 0.0282\n",
            "Epoch 3/25\n",
            "44/44 [==============================] - 86s 2s/step - loss: 4.2466 - accuracy: 0.0525\n",
            "Epoch 4/25\n",
            "44/44 [==============================] - 87s 2s/step - loss: 4.1082 - accuracy: 0.0694\n",
            "Epoch 5/25\n",
            "44/44 [==============================] - 85s 2s/step - loss: 3.9567 - accuracy: 0.0938\n",
            "Epoch 6/25\n",
            "44/44 [==============================] - 88s 2s/step - loss: 3.7937 - accuracy: 0.1146\n",
            "Epoch 7/25\n",
            "44/44 [==============================] - 85s 2s/step - loss: 3.6940 - accuracy: 0.1229\n",
            "Epoch 8/25\n",
            "44/44 [==============================] - 84s 2s/step - loss: 3.5704 - accuracy: 0.1509\n",
            "Epoch 9/25\n",
            "44/44 [==============================] - 85s 2s/step - loss: 3.4537 - accuracy: 0.1741\n",
            "Epoch 10/25\n",
            "44/44 [==============================] - 88s 2s/step - loss: 3.3713 - accuracy: 0.1859\n",
            "Epoch 11/25\n",
            "44/44 [==============================] - 94s 2s/step - loss: 3.2761 - accuracy: 0.2060\n",
            "Epoch 12/25\n",
            "44/44 [==============================] - 85s 2s/step - loss: 3.2178 - accuracy: 0.2176\n",
            "Epoch 13/25\n",
            "44/44 [==============================] - 85s 2s/step - loss: 3.1175 - accuracy: 0.2407\n",
            "Epoch 14/25\n",
            "44/44 [==============================] - 86s 2s/step - loss: 3.0312 - accuracy: 0.2516\n",
            "Epoch 15/25\n",
            "44/44 [==============================] - 85s 2s/step - loss: 2.9765 - accuracy: 0.2764\n",
            "Epoch 16/25\n",
            "44/44 [==============================] - 86s 2s/step - loss: 2.8986 - accuracy: 0.2907\n",
            "Epoch 17/25\n",
            "44/44 [==============================] - 88s 2s/step - loss: 2.8580 - accuracy: 0.2954\n",
            "Epoch 18/25\n",
            "44/44 [==============================] - 85s 2s/step - loss: 2.8231 - accuracy: 0.3025\n",
            "Epoch 19/25\n",
            "44/44 [==============================] - 94s 2s/step - loss: 2.7314 - accuracy: 0.3236\n",
            "Epoch 20/25\n",
            "44/44 [==============================] - 89s 2s/step - loss: 2.6597 - accuracy: 0.3377\n",
            "Epoch 21/25\n",
            "44/44 [==============================] - 87s 2s/step - loss: 2.6174 - accuracy: 0.3549\n",
            "Epoch 22/25\n",
            "44/44 [==============================] - 88s 2s/step - loss: 2.5551 - accuracy: 0.3576\n",
            "Epoch 23/25\n",
            "44/44 [==============================] - 86s 2s/step - loss: 2.5383 - accuracy: 0.3655\n",
            "Epoch 24/25\n",
            "44/44 [==============================] - 84s 2s/step - loss: 2.4432 - accuracy: 0.3838\n",
            "Epoch 25/25\n",
            "44/44 [==============================] - 89s 2s/step - loss: 2.4002 - accuracy: 0.3921\n"
          ]
        },
        {
          "output_type": "execute_result",
          "data": {
            "text/plain": [
              "<keras.callbacks.History at 0x7f783011ce20>"
            ]
          },
          "metadata": {},
          "execution_count": 18
        }
      ]
    },
    {
      "cell_type": "code",
      "source": [
        "test_loss, test_accuracy = model.evaluate(test_generator)\n",
        "print(f\"Test Loss: {test_loss:.4f}\")\n",
        "print(f\"Test Accuracy: {test_accuracy:.4f}\")\n"
      ],
      "metadata": {
        "colab": {
          "base_uri": "https://localhost:8080/"
        },
        "id": "m3fyQ8BG7hEV",
        "outputId": "d3d15298-148a-4947-a0c4-90351aee9699"
      },
      "execution_count": 19,
      "outputs": [
        {
          "output_type": "stream",
          "name": "stdout",
          "text": [
            "11/11 [==============================] - 20s 2s/step - loss: 3.6534 - accuracy: 0.2306\n",
            "Test Loss: 3.6534\n",
            "Test Accuracy: 0.2306\n"
          ]
        }
      ]
    }
  ]
}